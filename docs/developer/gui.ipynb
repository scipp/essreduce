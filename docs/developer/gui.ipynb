{
 "cells": [
  {
   "cell_type": "markdown",
   "metadata": {},
   "source": [
    "# Graphic user interfaces for data reduction.\n",
    "``ess.reduce.parameter.Parameter`` is an interface between ``params`` of ``sciline.Pipeline``(workflow) and GUI components.\n",
    "\n",
    "In this page, we will explain how to implement new Parameter and widgets and map those components with each other."
   ]
  },
  {
   "cell_type": "markdown",
   "metadata": {},
   "source": [
    "## Registries: How to map ``Parameter``, ``Workflow`` and ``Pipeline``.\n",
    "Parameters, workflows and widgets should be registered once they are implemented\n",
    "in order to be used automatically by workflow-widget building helper.\n",
    "\n",
    "The helper uses registries to\n",
    "- Find workflows\n",
    "- Find input arguments that can be set by widget\n",
    "- Find output types that can be computed by widget\n",
    "- Map ``Parameter`` and ``Pipeline.params`` to build smaller widgets\n",
    "- Set ``Pipeline.params`` based on the inputs of corresponding widgets"
   ]
  },
  {
   "cell_type": "markdown",
   "metadata": {},
   "source": [
    "## Tutorial: Implement Random Distribution Histogram Workflow GUI\n",
    "0. Prepare ``workflow`` interface that returns a ``sciline.Pipeline``\n",
    "    We are going to use this random number histogram workflow as an example.\n",
    "    We would like to implement a widget that users can put ``NumBins`` as an input.\n",
    "\n",
    "    If you want to specify ``typical_outputs``, the ``Pipeline`` object should have a property called ``typical_outputs: tuple[type, ...]``.\n",
    "    If it does not have a ``typical_outputs``, leaf nodes will be used as typical outputs."
   ]
  },
  {
   "cell_type": "code",
   "execution_count": null,
   "metadata": {},
   "outputs": [],
   "source": [
    "import scipp as sc\n",
    "import sciline as sl\n",
    "from typing import NewType\n",
    "import numpy as np\n",
    "\n",
    "\n",
    "NumBins = NewType('NumBins', int)\n",
    "Histogram = NewType('Histogram', sc.Variable)\n",
    "\n",
    "\n",
    "def histogram(num_bins: NumBins) -> Histogram:\n",
    "    rng = np.random.default_rng()\n",
    "    events = sc.array(dims=['event'], values=rng.normal(size=500))\n",
    "    return Histogram(events.hist(event=num_bins))\n",
    "\n",
    "\n",
    "def RandomDistributionWorkflow() -> sl.Pipeline:\n",
    "    wf = sl.Pipeline(providers=(histogram,))\n",
    "    # wf.typical_outputs = (Histogram, )  # Can be skipped since it's the only leaf node.\n",
    "    return wf\n",
    "\n",
    "\n",
    "RandomDistributionWorkflow()\n"
   ]
  },
  {
   "cell_type": "markdown",
   "metadata": {},
   "source": [
    "1. Register workflow to the ``workflow_registry``."
   ]
  },
  {
   "cell_type": "code",
   "execution_count": null,
   "metadata": {},
   "outputs": [],
   "source": [
    "from ess.reduce.workflow import register_workflow\n",
    "\n",
    "register_workflow(RandomDistributionWorkflow)"
   ]
  },
  {
   "cell_type": "markdown",
   "metadata": {},
   "source": [
    "2. Register ``domain-type``-``Parameter`` instance mapping to ``parameter_registry``.\n",
    "\n",
    "``Parameter`` and its subclasses have a class method ``from_type`` that helps to create a new parameter instance for a specific domain type.\n",
    "\n",
    "There are various parameter types already exist in ``ess.reduce.parameter`` module, but here we will show you how to make a new one.\n",
    "\n",
    "Once you know which ``Parameter`` to use for the specific ``domain-type``, \n",
    "\n",
    "you can register the new **parameter instance** to the **domain type** in the ``parameter_registry``."
   ]
  },
  {
   "cell_type": "code",
   "execution_count": null,
   "metadata": {},
   "outputs": [],
   "source": [
    "from ess.reduce.parameter import parameter_registry, Parameter\n",
    "\n",
    "\n",
    "class BinNumberParameter(Parameter): ...\n",
    "\n",
    "\n",
    "parameter_registry[NumBins] = BinNumberParameter(\n",
    "    name=NumBins.__name__,\n",
    "    description='Number of bins in the histogram',\n",
    "    default=NumBins(10),\n",
    ")\n",
    "\n",
    "# You can also use ``from_type``(class method) helper to instantiate the parameter.\n",
    "# parameter_registry[NumBins] = BinNumberParameter.from_type(NumBins)"
   ]
  },
  {
   "cell_type": "markdown",
   "metadata": {},
   "source": [
    "3. Register ``type[Parameter]`` - ``type[Widget]`` mapping to ``create_parameter_widget`` distpatch.\n",
    "\n"
   ]
  },
  {
   "cell_type": "code",
   "execution_count": null,
   "metadata": {},
   "outputs": [],
   "source": [
    "from ess.reduce.widgets import create_parameter_widget\n",
    "import ipywidgets as widgets\n",
    "\n",
    "\n",
    "@create_parameter_widget.register(BinNumberParameter)\n",
    "def scalar_parameter_widget(param: BinNumberParameter):\n",
    "    return widgets.IntText(\n",
    "        value=param.default, description=param.name, tooltip=param.description\n",
    "    )\n"
   ]
  },
  {
   "cell_type": "markdown",
   "metadata": {},
   "source": [
    "### Example UI from the tutorial."
   ]
  },
  {
   "cell_type": "code",
   "execution_count": null,
   "metadata": {},
   "outputs": [],
   "source": [
    "from ess.reduce.ui import workflow_widget\n",
    "\n",
    "ess_widget = workflow_widget()"
   ]
  },
  {
   "cell_type": "code",
   "execution_count": null,
   "metadata": {
    "nbsphinx": "hidden"
   },
   "outputs": [],
   "source": [
    "from ess.reduce.ui import WorkflowWidget\n",
    "\n",
    "# Select Workflow\n",
    "ess_widget.children[0].children[0].value = RandomDistributionWorkflow\n",
    "# Set Output Parameter\n",
    "body_widget: WorkflowWidget = ess_widget.children[1].children[0]\n",
    "body_widget.output_selection_box.typical_outputs_widget.value = [Histogram]\n",
    "body_widget.parameter_box.parameter_refresh_button.click()\n",
    "body_widget.result_box.run_button.click()"
   ]
  },
  {
   "cell_type": "code",
   "execution_count": null,
   "metadata": {},
   "outputs": [],
   "source": [
    "ess_widget"
   ]
  },
  {
   "cell_type": "markdown",
   "metadata": {},
   "source": [
    "## Wrapper Widgets\n",
    "\n",
    "In order to handle special cases of parameter settings, we have wrapper widgets.\n",
    "\n",
    "Each wrapper widget is associated with certain attribute of ``Parameter`` object.\n",
    "\n",
    "They are implemented as a decorator around widget type dispatch function like below.\n",
    "\n",
    "It is because of ``@singledispatch`` decorator.\n",
    "\n",
    "```python\n",
    "# In ess.reduce.widgets module\n",
    "@switchable_widget\n",
    "@optional_widget  # optional_widget should be applied first\n",
    "@singledispatch\n",
    "def create_parameter_widget(param: Parameter) -> widgets.Widget: ...\n",
    "```\n",
    "\n",
    "### Switchable Widget: ``Parameter.switchable``\n",
    "\n",
    "Widgets are wrapped in ``SwitchableWidget`` if ``Parameter`` is ``switchable``.\n",
    "\n",
    "The wrapped parameter input widget can be turned off and on.\n",
    "\n",
    "If the widget is `enabled`(on), the workflow-compute handling widget should set the value as a parameter into the `Pipeline(workflow)`,\n",
    "but if the widget is not `enabled`(off), the workflow-compute handling widget should skip setting the value as a parameter.\n",
    "\n",
    "It means it will either use the default parameter that was set or computed by providers."
   ]
  },
  {
   "cell_type": "code",
   "execution_count": null,
   "metadata": {},
   "outputs": [],
   "source": [
    "from ess.reduce.widgets import create_parameter_widget\n",
    "from ess.reduce.parameter import Parameter\n",
    "\n",
    "switchable_parameter = Parameter(\n",
    "    name='SwitchableParameter', description=\"\", default=\"\", switchable=True\n",
    ")\n",
    "switchable_widget = create_parameter_widget(switchable_parameter)\n",
    "switchable_widget.enabled = True\n",
    "switchable_widget"
   ]
  },
  {
   "cell_type": "markdown",
   "metadata": {},
   "source": [
    "### Optional Widget: ``Parameter.optional``\n",
    "\n",
    "Widgets are wrapped in a ``OptionalWidget`` if ``Parameter`` is ``optional``.\n",
    "\n",
    "The wrapped parameter input widget can select ``None`` as a value.\n",
    "\n",
    "If ``None`` is selected, the workflow-compute handling widget should set ``None`` as a parameter into the `Pipeline(workflow)`,\n",
    "but if the widget is not ``None``, the workflow-compute handling widget will retrieve the value from the wrapped widget.\n",
    "\n",
    "This wrapper is for the providers expecting optional arguments and handle the ``None`` itself."
   ]
  },
  {
   "cell_type": "code",
   "execution_count": null,
   "metadata": {},
   "outputs": [],
   "source": [
    "from ess.reduce.widgets import create_parameter_widget\n",
    "from ess.reduce.parameter import Parameter\n",
    "\n",
    "optional_parameter = Parameter(\n",
    "    name='OptionalParameter', description=\"\", default=\"\", optional=True\n",
    ")\n",
    "optional_widget = create_parameter_widget(optional_parameter)\n",
    "optional_widget.value = \"Test String\"\n",
    "optional_widget"
   ]
  },
  {
   "cell_type": "markdown",
   "metadata": {},
   "source": [
    "If ``Parameter`` object is both ``switchable`` and ``optional``, the widget is wrapped both in ``SwitchWidget`` and ``OptionalWidget``."
   ]
  },
  {
   "cell_type": "code",
   "execution_count": null,
   "metadata": {},
   "outputs": [],
   "source": [
    "from ess.reduce.widgets import create_parameter_widget\n",
    "from ess.reduce.parameter import Parameter\n",
    "\n",
    "switchable_and_optional_widget = create_parameter_widget(\n",
    "    Parameter(\n",
    "        name='Parameter', description=\"\", default=\"\", switchable=True, optional=True\n",
    "    )\n",
    ")\n",
    "switchable_and_optional_widget.enabled = True\n",
    "switchable_and_optional_widget"
   ]
  }
 ],
 "metadata": {
  "kernelspec": {
   "display_name": "lime-dev-310",
   "language": "python",
   "name": "python3"
  },
  "language_info": {
   "codemirror_mode": {
    "name": "ipython",
    "version": 3
   },
   "file_extension": ".py",
   "mimetype": "text/x-python",
   "name": "python",
   "nbconvert_exporter": "python",
   "pygments_lexer": "ipython3",
   "version": "3.10.13"
  }
 },
 "nbformat": 4,
 "nbformat_minor": 2
}
