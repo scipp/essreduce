{
 "cells": [
  {
   "cell_type": "markdown",
   "metadata": {},
   "source": [
    "# Graphic user interfaces for data reduction.\n",
    "``ess.reduce.parameter.Parameter`` is an interface between ``params`` of ``sciline.Pipeline``(workflow) and GUI components.\n",
    "\n",
    "In this page, we will explain how to implement new Parameter and widgets and map those components with each other."
   ]
  },
  {
   "cell_type": "markdown",
   "metadata": {},
   "source": [
    "## Registries: How to map ``Parameter``, ``Workflow`` and ``Pipeline``.\n",
    "Parameters, workflows and widgets should be registered once they are implemented\n",
    "in order to be used automatically by workflow-widget building helper.\n",
    "\n",
    "The helper uses registries to\n",
    "- Find workflows\n",
    "- Find input arguments that can be set by widget\n",
    "- Find output types that can be computed by widget\n",
    "- Map ``Parameter`` and ``Pipeline.params`` to build smaller widgets\n",
    "- Set ``Pipeline.params`` based on the inputs of corresponding widgets"
   ]
  },
  {
   "cell_type": "markdown",
   "metadata": {},
   "source": [
    "## Tutorial: Implement Random Distribution Histogram Workflow GUI\n",
    "0. Prepare ``workflow`` interface that returns a ``sciline.Pipeline``\n",
    "    We are going to use this random number histogram workflow as an example.\n",
    "    We would like to implement a widget that users can put ``NumBins`` as an input.\n",
    "\n",
    "    If you want to specify ``typical_outputs``, the ``Pipeline`` object should have a property called ``typical_outputs: tuple[type, ...]``.\n",
    "    If it does not have a ``typical_outputs``, leaf nodes will be used as typical outputs."
   ]
  },
  {
   "cell_type": "code",
   "execution_count": null,
   "metadata": {},
   "outputs": [],
   "source": [
    "import scipp as sc\n",
    "import sciline as sl\n",
    "from typing import NewType\n",
    "import numpy as np\n",
    "\n",
    "\n",
    "NumBins = NewType('NumBins', int)\n",
    "Histogram = NewType('Histogram', sc.Variable)\n",
    "\n",
    "\n",
    "def histogram(num_bins: NumBins) -> Histogram:\n",
    "    rng = np.random.default_rng()\n",
    "    events = sc.array(dims=['event'], values=rng.normal(size=500))\n",
    "    return Histogram(events.hist(event=num_bins))\n",
    "\n",
    "\n",
    "def RandomDistributionWorkflow() -> sl.Pipeline:\n",
    "    wf = sl.Pipeline(providers=(histogram,))\n",
    "    # wf.typical_outputs = (Histogram, )  # Can be skipped since it's the only leaf node.\n",
    "    return wf\n",
    "\n",
    "\n",
    "RandomDistributionWorkflow()\n"
   ]
  },
  {
   "cell_type": "markdown",
   "metadata": {},
   "source": [
    "1. Register workflow to the ``workflow_registry``."
   ]
  },
  {
   "cell_type": "code",
   "execution_count": null,
   "metadata": {},
   "outputs": [],
   "source": [
    "from ess.reduce.workflow import register_workflow\n",
    "\n",
    "register_workflow(RandomDistributionWorkflow)"
   ]
  },
  {
   "cell_type": "markdown",
   "metadata": {},
   "source": [
    "2. Register ``domain-type``-``Parameter`` instance mapping to ``parameter_registry``.\n",
    "\n",
    "``Parameter`` and its subclasses have a class method ``from_type`` that helps to create a new parameter instance for a specific domain type.\n",
    "\n",
    "There are various parameter types already exist in ``ess.reduce.parameter`` module, but here we will show you how to make a new one.\n",
    "\n",
    "Once you know which ``Parameter`` to use for the specific ``domain-type``, \n",
    "\n",
    "you can register the new **parameter instance** to the **domain type** in the ``parameter_registry``."
   ]
  },
  {
   "cell_type": "code",
   "execution_count": null,
   "metadata": {},
   "outputs": [],
   "source": [
    "from ess.reduce.parameter import parameter_registry, Parameter\n",
    "\n",
    "\n",
    "class BinNumberParameter(Parameter): ...\n",
    "\n",
    "\n",
    "parameter_registry[NumBins] = BinNumberParameter(\n",
    "    name=NumBins.__name__,\n",
    "    description='Number of bins in the histogram',\n",
    "    default=NumBins(10),\n",
    ")\n",
    "\n",
    "# You can also use ``from_type``(class method) helper to instantiate the parameter.\n",
    "# parameter_registry[NumBins] = BinNumberParameter.from_type(NumBins)"
   ]
  },
  {
   "cell_type": "markdown",
   "metadata": {},
   "source": [
    "3. Register ``type[Parameter]`` - ``type[Widget]`` mapping to ``create_parameter_widget`` distpatch.\n",
    "\n"
   ]
  },
  {
   "cell_type": "code",
   "execution_count": null,
   "metadata": {},
   "outputs": [],
   "source": [
    "from ess.reduce.widgets import create_parameter_widget\n",
    "import ipywidgets as widgets\n",
    "\n",
    "\n",
    "@create_parameter_widget.register(BinNumberParameter)\n",
    "def scalar_parameter_widget(param: BinNumberParameter):\n",
    "    return widgets.IntText(\n",
    "        value=param.default, description=param.name, tooltip=param.description\n",
    "    )\n"
   ]
  },
  {
   "cell_type": "markdown",
   "metadata": {},
   "source": [
    "### Example UI from the tutorial."
   ]
  },
  {
   "cell_type": "code",
   "execution_count": null,
   "metadata": {
    "nbsphinx": "hidden"
   },
   "outputs": [],
   "source": [
    "from ess.reduce.ui import layout\n",
    "# Select Workflow\n",
    "_workflow_name, _workflow_obj = layout.children[0].children[0].options[0]\n",
    "layout.children[0].children[0].value = _workflow_obj\n",
    "del _workflow_name, _workflow_obj\n",
    "# Set Output Parameter\n",
    "layout.children[0].children[1].options[0]\n",
    "layout.children[0].children[1].value = (layout.children[0].children[1].options[0],)\n",
    "# Click ``Generate Parameters`` button\n",
    "layout.children[0].children[3].children[0].click()\n",
    "# Click ``Run Workflow`` button\n",
    "layout.children[1].children[0].click()"
   ]
  },
  {
   "cell_type": "code",
   "execution_count": null,
   "metadata": {},
   "outputs": [],
   "source": [
    "layout"
   ]
  }
 ],
 "metadata": {
  "kernelspec": {
   "display_name": "lime-dev-310",
   "language": "python",
   "name": "python3"
  },
  "language_info": {
   "codemirror_mode": {
    "name": "ipython",
    "version": 3
   },
   "file_extension": ".py",
   "mimetype": "text/x-python",
   "name": "python",
   "nbconvert_exporter": "python",
   "pygments_lexer": "ipython3",
   "version": "3.10.13"
  }
 },
 "nbformat": 4,
 "nbformat_minor": 2
}
