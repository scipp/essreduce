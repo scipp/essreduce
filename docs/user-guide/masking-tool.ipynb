{
 "cells": [
  {
   "cell_type": "markdown",
   "id": "65d87927-23b0-40ec-a7e5-f67d6c5e708a",
   "metadata": {},
   "source": [
    "# Interactive masking tool\n",
    "\n",
    "This notebook show how to use the interactive masking tool."
   ]
  },
  {
   "cell_type": "code",
   "execution_count": null,
   "id": "bbb7fce2-1cd6-4f7b-9746-9fe1d909db32",
   "metadata": {},
   "outputs": [],
   "source": [
    "%matplotlib widget\n",
    "from ess.reduce import MaskingTool\n",
    "from plopp.data.examples import three_bands\n",
    "import plopp as pp\n",
    "import scipp as sc"
   ]
  },
  {
   "cell_type": "markdown",
   "id": "bfdcd0f6-8c43-4350-900b-c658a9ffa508",
   "metadata": {},
   "source": [
    "We generate some fake data:"
   ]
  },
  {
   "cell_type": "code",
   "execution_count": null,
   "id": "490f57c4-c17b-4073-a3d3-77672d4d43ee",
   "metadata": {},
   "outputs": [],
   "source": [
    "da = three_bands()\n",
    "da"
   ]
  },
  {
   "cell_type": "markdown",
   "id": "812ac2e0-dcb9-4405-931a-5e2dc77db9bd",
   "metadata": {},
   "source": [
    "## Two-dimensional masks\n",
    "\n",
    "We then load it into the `MaskingTool`:"
   ]
  },
  {
   "cell_type": "code",
   "execution_count": null,
   "id": "f546e8d5-7ebe-416a-b923-9158ed94877e",
   "metadata": {},
   "outputs": [],
   "source": [
    "masking_tool = MaskingTool(da, norm='log')"
   ]
  },
  {
   "cell_type": "code",
   "execution_count": null,
   "id": "e31c5f6d-be20-4cfa-bb24-683ebae89076",
   "metadata": {
    "nbsphinx": "hidden"
   },
   "outputs": [],
   "source": [
    "r, v, h = masking_tool.controls\n",
    "\n",
    "r.value = True\n",
    "r._tool.click(0, 200)\n",
    "r._tool.click(40, 300)\n",
    "\n",
    "v.value = True\n",
    "v._tool.click(100, 150)\n",
    "v._tool.click(150, 150)\n",
    "v._tool.click(250, 150)\n",
    "v._tool.click(300, 150)\n",
    "\n",
    "h.value = True\n",
    "h._tool.click(100, 50)\n",
    "h._tool.click(100, 100)\n",
    "\n",
    "masking_tool.filename.value = \"masks-2d.h5\""
   ]
  },
  {
   "cell_type": "code",
   "execution_count": null,
   "id": "1eead265-50ad-46ea-ad43-ef90dff6be81",
   "metadata": {},
   "outputs": [],
   "source": [
    "masking_tool"
   ]
  },
  {
   "cell_type": "markdown",
   "id": "2f1df8ea-7f5b-45c1-a5e4-aad82a6b3257",
   "metadata": {},
   "source": [
    "You can either save the masks to a file by filling in the text field and clicking the \"Save\" button,\n",
    "or get the masks as a `DataGroup` by calling:"
   ]
  },
  {
   "cell_type": "code",
   "execution_count": null,
   "id": "29dbf698-b3c9-4e41-994f-0578217c2d01",
   "metadata": {},
   "outputs": [],
   "source": [
    "masking_tool.get_masks()"
   ]
  },
  {
   "cell_type": "markdown",
   "id": "137fc65a-a44d-43c5-be27-3c9a5b38a6e5",
   "metadata": {},
   "source": [
    "## One-dimensional masks\n",
    "\n",
    "The tool also works with one-dimensional data.\n",
    "In this case, only the vertical span tool is active."
   ]
  },
  {
   "cell_type": "code",
   "execution_count": null,
   "id": "f278add5-cbed-45c3-ba4b-7c729e5d9a56",
   "metadata": {},
   "outputs": [],
   "source": [
    "masking_tool = MaskingTool(da.sum('y'), norm='log')"
   ]
  },
  {
   "cell_type": "code",
   "execution_count": null,
   "id": "48ef969c-f2db-4a09-87af-756ca75baa6b",
   "metadata": {
    "nbsphinx": "hidden"
   },
   "outputs": [],
   "source": [
    "v = masking_tool.controls[1]\n",
    "v.value = True\n",
    "v._tool.click(100, 150)\n",
    "v._tool.click(150, 150)\n",
    "v._tool.click(250, 150)\n",
    "v._tool.click(300, 150)\n",
    "\n",
    "masking_tool.filename.value = \"masks-1d.h5\""
   ]
  },
  {
   "cell_type": "code",
   "execution_count": null,
   "id": "d03a6c1a-0bed-496f-8ef7-2b5de92b3d0d",
   "metadata": {},
   "outputs": [],
   "source": [
    "masking_tool"
   ]
  },
  {
   "cell_type": "markdown",
   "id": "aae35c1f-a283-4f76-92ca-8bb45669282d",
   "metadata": {},
   "source": [
    "## Using the masks from the tool\n",
    "\n",
    "We will now show how we can connect the output of the masking tool to further computation,\n",
    "applying the masks and processing the data further.\n",
    "\n",
    "We first begin by setting up the same tool as above (in 2D)."
   ]
  },
  {
   "cell_type": "code",
   "execution_count": null,
   "id": "7f2f548c-253c-489c-89a1-1ee4cdb1a9fa",
   "metadata": {},
   "outputs": [],
   "source": [
    "masking_tool = MaskingTool(da, norm='log')"
   ]
  },
  {
   "cell_type": "markdown",
   "id": "1afecb0d-e29a-48f3-8af9-8a2907d71cbf",
   "metadata": {},
   "source": [
    "We then create a node that will listen to the changes in the masking tool and apply the masks onto the data before summing along the vertical dimension."
   ]
  },
  {
   "cell_type": "code",
   "execution_count": null,
   "id": "cdb7ea56-7152-44e9-9a51-79083436cbae",
   "metadata": {},
   "outputs": [],
   "source": [
    "def apply_masks(da, trigger_node):\n",
    "    # Get the current masks\n",
    "    masks = masking_tool.get_masks()\n",
    "    # Make a shallow copy and add the masks\n",
    "    out = da.copy(deep=False)\n",
    "    for name in masks:\n",
    "        cond = sc.ones(sizes=da.sizes, dtype=bool)\n",
    "        for dim, bounds in masks[name].items():\n",
    "            mids = sc.midpoints(da.coords[dim])\n",
    "            m = (mids > bounds[0]) & (mids < bounds[1])\n",
    "            cond = cond & m\n",
    "        out.masks[name] = cond\n",
    "    # Reduce data and return\n",
    "    return out.sum('y')\n",
    "\n",
    "apply = pp.Node(apply_masks, da=da, trigger_node=masking_tool.masking_node)\n",
    "\n",
    "fig = pp.plot(apply, norm='log')"
   ]
  },
  {
   "cell_type": "markdown",
   "id": "0b666f95-3c10-439d-b14a-ff9ba08b4420",
   "metadata": {},
   "source": [
    "We now show the two figures, and changes in the tool should update the reduced result.\n",
    "Adding a rectangle lowers the signal in the same x range but does not bring it to zero.\n",
    "Adding a vertical span zeros the data."
   ]
  },
  {
   "cell_type": "code",
   "execution_count": null,
   "id": "5ae1df8f-4cb5-4450-a785-b5d13dd8d528",
   "metadata": {
    "nbsphinx": "hidden"
   },
   "outputs": [],
   "source": [
    "r, v, h = masking_tool.controls\n",
    "\n",
    "r.value = True\n",
    "r._tool.click(43, 250)\n",
    "r._tool.click(124, 76)\n",
    "\n",
    "v.value = True\n",
    "v._tool.click(188, 150)\n",
    "v._tool.click(252, 150)"
   ]
  },
  {
   "cell_type": "code",
   "execution_count": null,
   "id": "b4e6443f-5de2-43c9-bfad-a1b7758029fc",
   "metadata": {},
   "outputs": [],
   "source": [
    "pp.widgets.Box([masking_tool.fig, fig])"
   ]
  }
 ],
 "metadata": {
  "kernelspec": {
   "display_name": "Python 3 (ipykernel)",
   "language": "python",
   "name": "python3"
  },
  "language_info": {
   "codemirror_mode": {
    "name": "ipython",
    "version": 3
   },
   "file_extension": ".py",
   "mimetype": "text/x-python",
   "name": "python",
   "nbconvert_exporter": "python",
   "pygments_lexer": "ipython3"
  }
 },
 "nbformat": 4,
 "nbformat_minor": 5
}
