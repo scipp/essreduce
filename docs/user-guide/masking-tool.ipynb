{
 "cells": [
  {
   "cell_type": "markdown",
   "id": "65d87927-23b0-40ec-a7e5-f67d6c5e708a",
   "metadata": {},
   "source": [
    "# Interactive masking tool\n",
    "\n",
    "This notebook show how to use the interactive masking tool."
   ]
  },
  {
   "cell_type": "code",
   "execution_count": null,
   "id": "bbb7fce2-1cd6-4f7b-9746-9fe1d909db32",
   "metadata": {},
   "outputs": [],
   "source": [
    "%matplotlib widget\n",
    "from ess.reduce import MaskingTool\n",
    "from plopp.data.examples import three_bands"
   ]
  },
  {
   "cell_type": "markdown",
   "id": "bfdcd0f6-8c43-4350-900b-c658a9ffa508",
   "metadata": {},
   "source": [
    "We generate some fake data:"
   ]
  },
  {
   "cell_type": "code",
   "execution_count": null,
   "id": "490f57c4-c17b-4073-a3d3-77672d4d43ee",
   "metadata": {},
   "outputs": [],
   "source": [
    "da = three_bands()\n",
    "da"
   ]
  },
  {
   "cell_type": "markdown",
   "id": "812ac2e0-dcb9-4405-931a-5e2dc77db9bd",
   "metadata": {},
   "source": [
    "We then load it into the `MaskingTool`:"
   ]
  },
  {
   "cell_type": "code",
   "execution_count": null,
   "id": "f546e8d5-7ebe-416a-b923-9158ed94877e",
   "metadata": {},
   "outputs": [],
   "source": [
    "masking_tool = MaskingTool(da, norm='log')"
   ]
  },
  {
   "cell_type": "code",
   "execution_count": null,
   "id": "e31c5f6d-be20-4cfa-bb24-683ebae89076",
   "metadata": {},
   "outputs": [],
   "source": [
    "r, v, h = masking_tool.controls\n",
    "\n",
    "r.value = True\n",
    "r._tool.click(0, 200)\n",
    "r._tool.click(40, 300)\n",
    "\n",
    "v.value = True\n",
    "v._tool.click(100, 150)\n",
    "v._tool.click(150, 150)\n",
    "v._tool.click(250, 150)\n",
    "v._tool.click(300, 150)\n",
    "\n",
    "h.value = True\n",
    "h._tool.click(100, 50)\n",
    "h._tool.click(100, 100)\n",
    "\n",
    "masking_tool.filename.value = \"masks-2d.h5\""
   ]
  },
  {
   "cell_type": "code",
   "execution_count": null,
   "id": "1eead265-50ad-46ea-ad43-ef90dff6be81",
   "metadata": {},
   "outputs": [],
   "source": [
    "masking_tool"
   ]
  },
  {
   "cell_type": "markdown",
   "id": "137fc65a-a44d-43c5-be27-3c9a5b38a6e5",
   "metadata": {},
   "source": [
    "The tool also works with one-dimensional data.\n",
    "In this case, only the vertical span tool is active."
   ]
  },
  {
   "cell_type": "code",
   "execution_count": null,
   "id": "f278add5-cbed-45c3-ba4b-7c729e5d9a56",
   "metadata": {},
   "outputs": [],
   "source": [
    "masking_tool = MaskingTool(da.sum('y'), norm='log')"
   ]
  },
  {
   "cell_type": "code",
   "execution_count": null,
   "id": "48ef969c-f2db-4a09-87af-756ca75baa6b",
   "metadata": {},
   "outputs": [],
   "source": [
    "v = masking_tool.controls[1]\n",
    "v.value = True\n",
    "v._tool.click(100, 150)\n",
    "v._tool.click(150, 150)\n",
    "v._tool.click(250, 150)\n",
    "v._tool.click(300, 150)\n",
    "\n",
    "masking_tool.filename.value = \"masks-1d.h5\""
   ]
  },
  {
   "cell_type": "code",
   "execution_count": null,
   "id": "d03a6c1a-0bed-496f-8ef7-2b5de92b3d0d",
   "metadata": {},
   "outputs": [],
   "source": [
    "masking_tool"
   ]
  }
 ],
 "metadata": {
  "kernelspec": {
   "display_name": "Python 3 (ipykernel)",
   "language": "python",
   "name": "python3"
  },
  "language_info": {
   "codemirror_mode": {
    "name": "ipython",
    "version": 3
   },
   "file_extension": ".py",
   "mimetype": "text/x-python",
   "name": "python",
   "nbconvert_exporter": "python",
   "pygments_lexer": "ipython3",
   "version": "3.10.12"
  }
 },
 "nbformat": 4,
 "nbformat_minor": 5
}
