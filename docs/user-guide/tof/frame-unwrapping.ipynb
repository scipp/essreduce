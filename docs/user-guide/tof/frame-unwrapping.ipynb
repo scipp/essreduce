{
 "cells": [
  {
   "attachments": {},
   "cell_type": "markdown",
   "id": "0",
   "metadata": {},
   "source": [
    "# Frame Unwrapping\n",
    "\n",
    "## Context\n",
    "\n",
    "At time-of-flight neutron sources recording event-mode, time-stamps of detected neutrons are written to files in an `NXevent_data` group.\n",
    "This contains two main time components, `event_time_zero` and `event_time_offset`.\n",
    "The sum of the two would typically yield the absolute detection time of the neutron.\n",
    "For computation of wavelengths or energies during data-reduction, a time-of-flight is required.\n",
    "In principle the time-of-flight could be equivalent to `event_time_offset`, and the emission time of the neutron to `event_time_zero`.\n",
    "Since an actual computation of time-of-flight would require knowledge about chopper settings, detector positions, and whether the scattering of the sample is elastic or inelastic, this may however not be the case in practice.\n",
    "Instead, the data acquisition system may, e.g., record the time at which the proton pulse hits the target as `event_time_zero`, with `event_time_offset` representing the offset since then.\n",
    "\n",
    "We refer to the process of \"unwrapping\" these time stamps into an actual time-of-flight as *frame unwrapping*, since `event_time_offset` \"wraps around\" with the period of the proton pulse and neutrons created by different proton pulses may be recorded with the *same* `event_time_zero`.\n",
    "The figures in the remainder of this document will clarify this."
   ]
  },
  {
   "cell_type": "code",
   "execution_count": null,
   "id": "1",
   "metadata": {},
   "outputs": [],
   "source": [
    "import plopp as pp\n",
    "import scipp as sc\n",
    "import sciline as sl\n",
    "from scippneutron.chopper import DiskChopper\n",
    "from ess.reduce import time_of_flight\n",
    "import tof\n",
    "\n",
    "Hz = sc.Unit(\"Hz\")\n",
    "deg = sc.Unit(\"deg\")\n",
    "meter = sc.Unit(\"m\")"
   ]
  },
  {
   "cell_type": "markdown",
   "id": "2",
   "metadata": {},
   "source": [
    "## Default mode"
   ]
  },
  {
   "cell_type": "markdown",
   "id": "3",
   "metadata": {},
   "source": [
    "Often there is a 1:1 correspondence between source pulses and neutron pulses propagated to the sample and detectors.\n",
    "\n",
    "In this first example:\n",
    "\n",
    "- We begin by creating a source of neutrons which mimics the ESS source.\n",
    "- We set up a single chopper with a single opening\n",
    "- We place 4 'monitors' along the path of the neutrons (none of which absorb any neutrons)"
   ]
  },
  {
   "cell_type": "code",
   "execution_count": null,
   "id": "4",
   "metadata": {},
   "outputs": [],
   "source": [
    "source = tof.Source(facility=\"ess\", pulses=5)\n",
    "chopper = tof.Chopper(\n",
    "    frequency=14.0 * Hz,\n",
    "    open=sc.array(dims=[\"cutout\"], values=[0.0], unit=\"deg\"),\n",
    "    close=sc.array(dims=[\"cutout\"], values=[3.0], unit=\"deg\"),\n",
    "    phase=85.0 * deg,\n",
    "    distance=8.0 * meter,\n",
    "    name=\"chopper\",\n",
    ")\n",
    "detectors = [\n",
    "    tof.Detector(distance=20.0 * meter, name=\"beam\"),\n",
    "    tof.Detector(distance=60.0 * meter, name=\"sample\"),\n",
    "    tof.Detector(distance=80.0 * meter, name=\"monitor\"),\n",
    "    tof.Detector(distance=108.0 * meter, name=\"detector\"),\n",
    "]\n",
    "\n",
    "model = tof.Model(source=source, choppers=[chopper], detectors=detectors)\n",
    "results = model.run()\n",
    "pl = results.plot()\n",
    "\n",
    "for i in range(2 * source.pulses):\n",
    "    pl.ax.axvline(\n",
    "        i * (1.0 / source.frequency).to(unit=\"us\").value, color=\"k\", ls=\"dotted\"\n",
    "    )"
   ]
  },
  {
   "cell_type": "markdown",
   "id": "5",
   "metadata": {},
   "source": [
    "In the figure above, the dotted vertical lines represent the `event_time_zero` of each pulse,\n",
    "i.e. the start of a new origin for `event_time_offset` recorded at the various detectors.\n",
    "\n",
    "The span between two dotted lines is called a 'frame'.\n",
    "\n",
    "The figure gives a good representation of the situation at each detector:\n",
    "\n",
    "- **beam** monitor: all the arrival times at the detector are inside the same frame within which the neutrons were created.\n",
    "- **sample**: all the arrival times are offset by one frame\n",
    "- **monitor**: most of the neutrons arrive with an offset of two frames, but a small amount of neutrons (shortest wavelengths) only have a 1-frame offset\n",
    "- **detector**: most of the neutrons arrive with an offset of two frames, but a small amount of neutrons (longest wavelengths) have a 3-frame offset\n",
    "\n",
    "We can further illustrate this by making histograms of the `event_time_offset` of the neutrons for each detector:"
   ]
  },
  {
   "cell_type": "code",
   "execution_count": null,
   "id": "6",
   "metadata": {},
   "outputs": [],
   "source": [
    "subplots = pp.tiled(2, 2, figsize=(9, 6))\n",
    "nxevent_data = results.to_nxevent_data()\n",
    "for i, det in enumerate(detectors):\n",
    "    data = nxevent_data[\"detector_number\", i]\n",
    "    subplots[i // 2, i % 2] = (\n",
    "        data.bins.concat()\n",
    "        .hist(event_time_offset=200)\n",
    "        .plot(title=f\"{det.name}={det.distance:c}\", color=f\"C{i}\")\n",
    "    )\n",
    "subplots"
   ]
  },
  {
   "cell_type": "markdown",
   "id": "7",
   "metadata": {},
   "source": [
    "### Computing time-of-flight\n",
    "\n",
    "We describe in this section the workflow that computes time-of-flight,\n",
    "given `event_time_zero` and `event_time_offset` for neutron events,\n",
    "as well as the properties of the source pulse and the choppers in the beamline.\n",
    "\n",
    "In short, we use a lookup table which can predict the wavelength (or time-of-flight) of the neutrons,\n",
    "according to their `event_time_offset`.\n",
    "\n",
    "The workflow can be visualized as follows:"
   ]
  },
  {
   "cell_type": "code",
   "execution_count": null,
   "id": "8",
   "metadata": {},
   "outputs": [],
   "source": [
    "workflow = sl.Pipeline(\n",
    "    time_of_flight.providers(), params=time_of_flight.default_parameters()\n",
    ")\n",
    "\n",
    "workflow[time_of_flight.RawData] = nxevent_data\n",
    "workflow[time_of_flight.Ltotal] = nxevent_data.coords[\"Ltotal\"]\n",
    "workflow[time_of_flight.LtotalRange] = detectors[0].distance, detectors[-1].distance\n",
    "workflow[time_of_flight.SimulationResults] = time_of_flight.simulate_beamline(\n",
    "    choppers={\n",
    "        \"chopper\": DiskChopper(\n",
    "            frequency=-chopper.frequency,\n",
    "            beam_position=sc.scalar(0.0, unit=\"deg\"),\n",
    "            phase=-chopper.phase,\n",
    "            axle_position=sc.vector(\n",
    "                value=[0, 0, chopper.distance.value], unit=chopper.distance.unit\n",
    "            ),\n",
    "            slit_begin=chopper.open,\n",
    "            slit_end=chopper.close,\n",
    "            slit_height=sc.scalar(10.0, unit=\"cm\"),\n",
    "            radius=sc.scalar(30.0, unit=\"cm\"),\n",
    "        )\n",
    "    }\n",
    ")\n",
    "\n",
    "workflow.visualize(time_of_flight.TofData)"
   ]
  },
  {
   "cell_type": "markdown",
   "id": "9",
   "metadata": {},
   "source": [
    "#### Create the lookup table\n",
    "\n",
    "The chopper information is used to construct a lookup table that provides an estimate of the real time-of-flight as a function of time-of-arrival.\n",
    "\n",
    "The `tof` module can be used to propagate a pulse of neutrons through the chopper system to the detectors,\n",
    "and predict the most likely neutron wavelength for a given time-of-arrival.\n",
    "More advanced programs such as McStas can of course also be used for even better results.\n",
    "\n",
    "We typically have hundreds of thousands of pixels in an instrument,\n",
    "but it is actually not necessary to propagate the neutrons to 10<sup>5</sup> detectors.\n",
    "\n",
    "Instead, we make a table that spans the entire range of distances of all the pixels,\n",
    "with a modest resolution,\n",
    "and use a linear interpolation for values that lie between the points in the table.\n",
    "\n",
    "To create the table, we thus:\n",
    "\n",
    "- run a simulation where a pulse of neutrons passes through the choppers and reaches the sample (or any location after the last chopper)\n",
    "- propagate the neutrons from the sample to a range of distances that span the minimum and maximum pixel distance from the sample (assuming neutron wavelengths do not change)\n",
    "- bin the neutrons in both distance and time-of-arrival (yielding a 2D binned data array)\n",
    "- compute the (weighted) mean wavelength inside each bin\n",
    "- convert the wavelengths to a real time-of-flight to give our final lookup table\n",
    "\n",
    "The table can be visualized here:"
   ]
  },
  {
   "cell_type": "code",
   "execution_count": null,
   "id": "10",
   "metadata": {},
   "outputs": [],
   "source": [
    "table = workflow.compute(time_of_flight.TimeOfFlightLookupTable).squeeze()\n",
    "table.plot()"
   ]
  },
  {
   "cell_type": "markdown",
   "id": "11",
   "metadata": {},
   "source": [
    "#### Computing time-of-flight from the lookup\n",
    "\n",
    "We now use the above table to perform a bilinear interpolation and compute the time-of-flight of every neutron."
   ]
  },
  {
   "cell_type": "code",
   "execution_count": null,
   "id": "12",
   "metadata": {},
   "outputs": [],
   "source": [
    "tofs = workflow.compute(time_of_flight.TofData)\n",
    "\n",
    "tof_hist = tofs.hist(tof=sc.scalar(500.0, unit=\"us\"))\n",
    "pp.plot({det.name: tof_hist[\"detector_number\", i] for i, det in enumerate(detectors)})"
   ]
  },
  {
   "cell_type": "markdown",
   "id": "13",
   "metadata": {},
   "source": [
    "### Converting to wavelength\n",
    "\n",
    "The time-of-flight of a neutron is commonly used as the fundamental quantity from which one can compute the neutron energy or wavelength.\n",
    "\n",
    "Here, we compute the wavelengths from the time-of-flight using Scippneutron's `transform_coord` utility,\n",
    "and compare our computed wavelengths to the true wavelengths which are known for the simulated neutrons."
   ]
  },
  {
   "cell_type": "code",
   "execution_count": null,
   "id": "14",
   "metadata": {},
   "outputs": [],
   "source": [
    "from scippneutron.conversion.graph.beamline import beamline\n",
    "from scippneutron.conversion.graph.tof import elastic\n",
    "\n",
    "# Perform coordinate transformation\n",
    "graph = {**beamline(scatter=False), **elastic(\"tof\")}\n",
    "\n",
    "# Define wavelength bin edges\n",
    "bins = sc.linspace(\"wavelength\", 6.0, 9.0, 101, unit=\"angstrom\")\n",
    "\n",
    "# Compute wavelengths\n",
    "wav_hist = tofs.transform_coords(\"wavelength\", graph=graph).hist(wavelength=bins)\n",
    "wavs = {det.name: wav_hist[\"detector_number\", i] for i, det in enumerate(detectors)}\n",
    "\n",
    "ground_truth = results[\"detector\"].data.flatten(to=\"event\")\n",
    "ground_truth = ground_truth[~ground_truth.masks[\"blocked_by_others\"]].hist(\n",
    "    wavelength=bins\n",
    ")\n",
    "\n",
    "wavs[\"true\"] = ground_truth\n",
    "pp.plot(wavs)"
   ]
  },
  {
   "cell_type": "markdown",
   "id": "15",
   "metadata": {},
   "source": [
    "We see that all detectors agree on the wavelength spectrum,\n",
    "which is also in very good agreement with the true neutron wavelengths.\n",
    "\n",
    "## Pulse-skipping mode\n",
    "\n",
    "In some beamline configurations, one wishes to study a wide range of wavelengths at a high flux.\n",
    "This usually means that the spread of arrival times will spill-over into the next pulse if the detector is placed far enough to yield a good wavelength resolution.\n",
    "\n",
    "To avoid the next pulse polluting the data from the current pulse,\n",
    "it is common practice to use a pulse-skipping chopper which basically blocks all neutrons every other pulse.\n",
    "This could also be every 3 or 4 pulses for very long instruments.\n",
    "\n",
    "The time-distance diagram may look something like:"
   ]
  },
  {
   "cell_type": "code",
   "execution_count": null,
   "id": "16",
   "metadata": {},
   "outputs": [],
   "source": [
    "source = tof.Source(facility=\"ess\", pulses=4)\n",
    "choppers = [\n",
    "    tof.Chopper(\n",
    "        frequency=14.0 * Hz,\n",
    "        open=sc.array(dims=[\"cutout\"], values=[0.0], unit=\"deg\"),\n",
    "        close=sc.array(dims=[\"cutout\"], values=[33.0], unit=\"deg\"),\n",
    "        phase=35.0 * deg,\n",
    "        distance=8.0 * meter,\n",
    "        name=\"chopper\",\n",
    "    ),\n",
    "    tof.Chopper(\n",
    "        frequency=7.0 * Hz,\n",
    "        open=sc.array(dims=[\"cutout\"], values=[0.0], unit=\"deg\"),\n",
    "        close=sc.array(dims=[\"cutout\"], values=[120.0], unit=\"deg\"),\n",
    "        phase=10.0 * deg,\n",
    "        distance=15.0 * meter,\n",
    "        name=\"pulse-skipping\",\n",
    "    ),\n",
    "]\n",
    "detectors = [\n",
    "    tof.Detector(distance=60.0 * meter, name=\"monitor\"),\n",
    "    tof.Detector(distance=100.0 * meter, name=\"detector\"),\n",
    "]\n",
    "\n",
    "model = tof.Model(source=source, choppers=choppers, detectors=detectors)\n",
    "results = model.run()\n",
    "results.plot(blocked_rays=5000)"
   ]
  },
  {
   "cell_type": "markdown",
   "id": "17",
   "metadata": {},
   "source": [
    "### Computing time-of-flight\n",
    "\n",
    "To compute the time-of-flight in pulse skipping mode,\n",
    "we can use the same workflow as before.\n",
    "\n",
    "The only difference is that we set the `PulseStride` to 2 to skip every other pulse."
   ]
  },
  {
   "cell_type": "code",
   "execution_count": null,
   "id": "18",
   "metadata": {},
   "outputs": [],
   "source": [
    "workflow = sl.Pipeline(\n",
    "    time_of_flight.providers(), params=time_of_flight.default_parameters()\n",
    ")\n",
    "\n",
    "nxevent_data = results.to_nxevent_data()\n",
    "\n",
    "workflow[time_of_flight.PulseStride] = 2\n",
    "workflow[time_of_flight.RawData] = nxevent_data\n",
    "workflow[time_of_flight.Ltotal] = nxevent_data.coords[\"Ltotal\"]\n",
    "workflow[time_of_flight.LtotalRange] = detectors[0].distance, detectors[-1].distance\n",
    "workflow[time_of_flight.SimulationResults] = time_of_flight.simulate_beamline(\n",
    "    choppers={\n",
    "        ch.name: DiskChopper(\n",
    "            frequency=-ch.frequency,\n",
    "            beam_position=sc.scalar(0.0, unit=\"deg\"),\n",
    "            phase=-ch.phase,\n",
    "            axle_position=sc.vector(\n",
    "                value=[0, 0, ch.distance.value], unit=chopper.distance.unit\n",
    "            ),\n",
    "            slit_begin=ch.open,\n",
    "            slit_end=ch.close,\n",
    "            slit_height=sc.scalar(10.0, unit=\"cm\"),\n",
    "            radius=sc.scalar(30.0, unit=\"cm\"),\n",
    "        )\n",
    "        for ch in choppers\n",
    "    },\n",
    ")\n",
    "\n",
    "workflow[time_of_flight.DistanceResolution] = sc.scalar(0.5, unit=\"m\")\n",
    "workflow[time_of_flight.LookupTableRelativeErrorThreshold] = 0.1"
   ]
  },
  {
   "cell_type": "markdown",
   "id": "19",
   "metadata": {},
   "source": [
    "The time-of-flight lookup table now has an extra `pulse` dimension for each pulse in the stride:"
   ]
  },
  {
   "cell_type": "code",
   "execution_count": null,
   "id": "20",
   "metadata": {},
   "outputs": [],
   "source": [
    "table = workflow.compute(time_of_flight.TimeOfFlightLookupTable)\n",
    "\n",
    "table[\"pulse\", 0].plot(title=\"Pulse-0\") + table[\"pulse\", 1].plot(title=\"Pulse-1\")"
   ]
  },
  {
   "cell_type": "markdown",
   "id": "21",
   "metadata": {},
   "source": [
    "The time-of-flight profiles are then:"
   ]
  },
  {
   "cell_type": "code",
   "execution_count": null,
   "id": "22",
   "metadata": {},
   "outputs": [],
   "source": [
    "tofs = workflow.compute(time_of_flight.TofData)\n",
    "\n",
    "tof_hist = tofs.hist(tof=sc.scalar(500.0, unit=\"us\"))\n",
    "pp.plot({det.name: tof_hist[\"detector_number\", i] for i, det in enumerate(detectors)})"
   ]
  },
  {
   "cell_type": "markdown",
   "id": "23",
   "metadata": {},
   "source": [
    "### Conversion to wavelength\n",
    "\n",
    "We now use the `transform_coords` as above to convert to wavelength."
   ]
  },
  {
   "cell_type": "code",
   "execution_count": null,
   "id": "24",
   "metadata": {},
   "outputs": [],
   "source": [
    "# Define wavelength bin edges\n",
    "bins = sc.linspace(\"wavelength\", 1.0, 8.0, 401, unit=\"angstrom\")\n",
    "\n",
    "# Compute wavelengths\n",
    "wav_hist = tofs.transform_coords(\"wavelength\", graph=graph).hist(wavelength=bins)\n",
    "wavs = {det.name: wav_hist[\"detector_number\", i] for i, det in enumerate(detectors)}\n",
    "\n",
    "ground_truth = results[\"detector\"].data.flatten(to=\"event\")\n",
    "ground_truth = ground_truth[~ground_truth.masks[\"blocked_by_others\"]].hist(\n",
    "    wavelength=bins\n",
    ")\n",
    "\n",
    "wavs[\"true\"] = ground_truth\n",
    "pp.plot(wavs)"
   ]
  }
 ],
 "metadata": {
  "kernelspec": {
   "display_name": "Python 3 (ipykernel)",
   "language": "python",
   "name": "python3"
  },
  "language_info": {
   "codemirror_mode": {
    "name": "ipython",
    "version": 3
   },
   "file_extension": ".py",
   "mimetype": "text/x-python",
   "name": "python",
   "nbconvert_exporter": "python",
   "pygments_lexer": "ipython3"
  }
 },
 "nbformat": 4,
 "nbformat_minor": 5
}
